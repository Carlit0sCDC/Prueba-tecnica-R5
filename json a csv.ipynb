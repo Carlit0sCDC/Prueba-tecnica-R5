{
 "cells": [
  {
   "cell_type": "code",
   "execution_count": 14,
   "metadata": {},
   "outputs": [],
   "source": [
    "#primero importamos las librerias necesarias\n",
    "import pandas as pd\n",
    "import json"
   ]
  },
  {
   "cell_type": "code",
   "execution_count": 50,
   "metadata": {},
   "outputs": [],
   "source": [
    "#luego leemos el archivo json\n",
    "with open('taylor_swift_spotify.json', 'r', encoding='utf-8') as file:\n",
    "    data = json.load(file)"
   ]
  },
  {
   "cell_type": "code",
   "execution_count": 51,
   "metadata": {},
   "outputs": [],
   "source": [
    "#desanidamos el archivo completo y lo guardamos en una lista\n",
    "tracks_data = []\n",
    "for album in data['albums']:\n",
    "    for track in album['tracks']:\n",
    "        track_info = {\n",
    "            'disc_number': track['disc_number'],\n",
    "            'duration_ms': track['duration_ms'],\n",
    "            'explicit': track['explicit'],\n",
    "            'track_number': track['track_number'],\n",
    "            'track_popularity': track['track_popularity'],\n",
    "            'track_id': track['track_id'],\n",
    "            'track_name': track['track_name'],\n",
    "            **track['audio_features'],\n",
    "            'artist_id': data['artist_id'],\n",
    "            'artist_name': data['artist_name'],\n",
    "            'artist_popularity': data['artist_popularity'],\n",
    "            'album_id': album['album_id'],\n",
    "            'album_name': album['album_name'],\n",
    "            'album_release_date': album['album_release_date'],\n",
    "            'album_total_tracks': album['album_total_tracks']\n",
    "        }\n",
    "        tracks_data.append(track_info)"
   ]
  },
  {
   "cell_type": "code",
   "execution_count": 52,
   "metadata": {},
   "outputs": [],
   "source": [
    "#convertimos la lista a un dataframe\n",
    "df = pd.DataFrame(tracks_data)"
   ]
  },
  {
   "cell_type": "code",
   "execution_count": 53,
   "metadata": {},
   "outputs": [],
   "source": [
    "#guardamos el resultado final en el archivo de formato CSV deseado\n",
    "df.to_csv('dataset.csv', index=False)"
   ]
  }
 ],
 "metadata": {
  "kernelspec": {
   "display_name": "Python 3",
   "language": "python",
   "name": "python3"
  },
  "language_info": {
   "codemirror_mode": {
    "name": "ipython",
    "version": 3
   },
   "file_extension": ".py",
   "mimetype": "text/x-python",
   "name": "python",
   "nbconvert_exporter": "python",
   "pygments_lexer": "ipython3",
   "version": "3.11.7"
  }
 },
 "nbformat": 4,
 "nbformat_minor": 2
}
